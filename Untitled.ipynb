{
 "cells": [
  {
   "cell_type": "markdown",
   "metadata": {},
   "source": [
    "Question-10 Hypothesis statements using data.\n",
    "\n",
    "Answer - \n",
    "\n",
    "(1) employe salary is less than age\n",
    "\n",
    "(2) employe age is less than salary\n",
    "\n",
    "(3) employe work hours is more than expected\n",
    "\n",
    "(4) employe experience higer but salary is less\n",
    "\n",
    "(5) employe distance from and company is more\n",
    "\n",
    "(6) employe salary like not good as company giving work\n",
    "\n",
    "(7) employe job level is decrease or not\n",
    "\n",
    "(8) employe job level acheiver and top\n",
    "\n",
    "(9) employe education is higher than other or not\n",
    "\n",
    "(10) the average age of employee in a company is 35 with standard deviation 10.A reasearcher belives that if age is less than 35 there is higher attrition rate. Take a sample of 50 employee with average age being 37 and level of significance is 0.05."
   ]
  },
  {
   "cell_type": "code",
   "execution_count": null,
   "metadata": {},
   "outputs": [],
   "source": []
  }
 ],
 "metadata": {
  "kernelspec": {
   "display_name": "Python 3",
   "language": "python",
   "name": "python3"
  },
  "language_info": {
   "codemirror_mode": {
    "name": "ipython",
    "version": 3
   },
   "file_extension": ".py",
   "mimetype": "text/x-python",
   "name": "python",
   "nbconvert_exporter": "python",
   "pygments_lexer": "ipython3",
   "version": "3.7.6"
  }
 },
 "nbformat": 4,
 "nbformat_minor": 4
}
